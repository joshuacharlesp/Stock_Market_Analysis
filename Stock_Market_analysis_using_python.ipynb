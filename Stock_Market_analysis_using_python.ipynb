{
  "nbformat": 4,
  "nbformat_minor": 0,
  "metadata": {
    "colab": {
      "provenance": []
    },
    "kernelspec": {
      "name": "python3",
      "display_name": "Python 3"
    },
    "language_info": {
      "name": "python"
    }
  },
  "cells": [
    {
      "cell_type": "code",
      "execution_count": 1,
      "metadata": {
        "colab": {
          "base_uri": "https://localhost:8080/",
          "height": 339
        },
        "id": "zpMNcVZq1m_p",
        "outputId": "167e2ea2-d9ba-401b-dcab-6752e49f8dcd"
      },
      "outputs": [
        {
          "output_type": "error",
          "ename": "ModuleNotFoundError",
          "evalue": "ignored",
          "traceback": [
            "\u001b[0;31m---------------------------------------------------------------------------\u001b[0m",
            "\u001b[0;31mModuleNotFoundError\u001b[0m                       Traceback (most recent call last)",
            "\u001b[0;32m<ipython-input-1-1c05d9461e6f>\u001b[0m in \u001b[0;36m<module>\u001b[0;34m\u001b[0m\n\u001b[1;32m      1\u001b[0m \u001b[0;32mimport\u001b[0m \u001b[0mpandas\u001b[0m \u001b[0;32mas\u001b[0m \u001b[0mpd\u001b[0m\u001b[0;34m\u001b[0m\u001b[0;34m\u001b[0m\u001b[0m\n\u001b[0;32m----> 2\u001b[0;31m \u001b[0;32mfrom\u001b[0m \u001b[0malpha_vantage\u001b[0m\u001b[0;34m.\u001b[0m\u001b[0mtimeseries\u001b[0m \u001b[0;32mimport\u001b[0m \u001b[0mTimeSeries\u001b[0m\u001b[0;34m\u001b[0m\u001b[0;34m\u001b[0m\u001b[0m\n\u001b[0m\u001b[1;32m      3\u001b[0m \u001b[0;32mimport\u001b[0m \u001b[0mtime\u001b[0m\u001b[0;34m\u001b[0m\u001b[0;34m\u001b[0m\u001b[0m\n",
            "\u001b[0;31mModuleNotFoundError\u001b[0m: No module named 'alpha_vantage'",
            "",
            "\u001b[0;31m---------------------------------------------------------------------------\u001b[0;32m\nNOTE: If your import is failing due to a missing package, you can\nmanually install dependencies using either !pip or !apt.\n\nTo view examples of installing some common dependencies, click the\n\"Open Examples\" button below.\n\u001b[0;31m---------------------------------------------------------------------------\u001b[0m\n"
          ],
          "errorDetails": {
            "actions": [
              {
                "action": "open_url",
                "actionText": "Open Examples",
                "url": "/notebooks/snippets/importing_libraries.ipynb"
              }
            ]
          }
        }
      ],
      "source": [
        "import pandas as pd\n",
        "from alpha_vantage.timeseries import TimeSeries\n",
        "import time"
      ]
    },
    {
      "cell_type": "code",
      "source": [
        "!pip install alpha_vantage"
      ],
      "metadata": {
        "colab": {
          "base_uri": "https://localhost:8080/"
        },
        "id": "BlIH89Ah1xgn",
        "outputId": "fba67257-583d-4dc6-fff7-627c70eb6a9e"
      },
      "execution_count": 2,
      "outputs": [
        {
          "output_type": "stream",
          "name": "stdout",
          "text": [
            "Looking in indexes: https://pypi.org/simple, https://us-python.pkg.dev/colab-wheels/public/simple/\n",
            "Collecting alpha_vantage\n",
            "  Downloading alpha_vantage-2.3.1-py3-none-any.whl (31 kB)\n",
            "Requirement already satisfied: aiohttp in /usr/local/lib/python3.7/dist-packages (from alpha_vantage) (3.8.1)\n",
            "Requirement already satisfied: requests in /usr/local/lib/python3.7/dist-packages (from alpha_vantage) (2.23.0)\n",
            "Requirement already satisfied: asynctest==0.13.0 in /usr/local/lib/python3.7/dist-packages (from aiohttp->alpha_vantage) (0.13.0)\n",
            "Requirement already satisfied: charset-normalizer<3.0,>=2.0 in /usr/local/lib/python3.7/dist-packages (from aiohttp->alpha_vantage) (2.1.1)\n",
            "Requirement already satisfied: frozenlist>=1.1.1 in /usr/local/lib/python3.7/dist-packages (from aiohttp->alpha_vantage) (1.3.1)\n",
            "Requirement already satisfied: attrs>=17.3.0 in /usr/local/lib/python3.7/dist-packages (from aiohttp->alpha_vantage) (22.1.0)\n",
            "Requirement already satisfied: yarl<2.0,>=1.0 in /usr/local/lib/python3.7/dist-packages (from aiohttp->alpha_vantage) (1.8.1)\n",
            "Requirement already satisfied: typing-extensions>=3.7.4 in /usr/local/lib/python3.7/dist-packages (from aiohttp->alpha_vantage) (4.1.1)\n",
            "Requirement already satisfied: async-timeout<5.0,>=4.0.0a3 in /usr/local/lib/python3.7/dist-packages (from aiohttp->alpha_vantage) (4.0.2)\n",
            "Requirement already satisfied: aiosignal>=1.1.2 in /usr/local/lib/python3.7/dist-packages (from aiohttp->alpha_vantage) (1.2.0)\n",
            "Requirement already satisfied: multidict<7.0,>=4.5 in /usr/local/lib/python3.7/dist-packages (from aiohttp->alpha_vantage) (6.0.2)\n",
            "Requirement already satisfied: idna>=2.0 in /usr/local/lib/python3.7/dist-packages (from yarl<2.0,>=1.0->aiohttp->alpha_vantage) (2.10)\n",
            "Requirement already satisfied: certifi>=2017.4.17 in /usr/local/lib/python3.7/dist-packages (from requests->alpha_vantage) (2022.6.15)\n",
            "Requirement already satisfied: chardet<4,>=3.0.2 in /usr/local/lib/python3.7/dist-packages (from requests->alpha_vantage) (3.0.4)\n",
            "Requirement already satisfied: urllib3!=1.25.0,!=1.25.1,<1.26,>=1.21.1 in /usr/local/lib/python3.7/dist-packages (from requests->alpha_vantage) (1.24.3)\n",
            "Installing collected packages: alpha-vantage\n",
            "Successfully installed alpha-vantage-2.3.1\n"
          ]
        }
      ]
    },
    {
      "cell_type": "code",
      "source": [
        "import pandas as pd\n",
        "from alpha_vantage.timeseries import TimeSeries\n",
        "import time"
      ],
      "metadata": {
        "id": "xyKs2mxg16yL"
      },
      "execution_count": 12,
      "outputs": []
    },
    {
      "cell_type": "code",
      "source": [
        "api_key=\"A78UC8RD7BHJEI0J\""
      ],
      "metadata": {
        "id": "RbrA4HDL2ANT"
      },
      "execution_count": 13,
      "outputs": []
    },
    {
      "cell_type": "code",
      "source": [
        "ts=TimeSeries(key=api_key,output_format=\"pandas\")"
      ],
      "metadata": {
        "id": "5zL8AYbN2Wep"
      },
      "execution_count": 14,
      "outputs": []
    },
    {
      "cell_type": "code",
      "source": [
        "data, meta_data = ts.get_intraday(symbol='MSFT', interval = '1min', outputsize = 'full')"
      ],
      "metadata": {
        "id": "kZh5y6sQ2kur"
      },
      "execution_count": 16,
      "outputs": []
    },
    {
      "cell_type": "code",
      "source": [
        "data.describe()"
      ],
      "metadata": {
        "colab": {
          "base_uri": "https://localhost:8080/",
          "height": 300
        },
        "id": "nGv_pNww22_Y",
        "outputId": "b25eb189-79a2-4098-ad85-877f0b085e76"
      },
      "execution_count": 17,
      "outputs": [
        {
          "output_type": "execute_result",
          "data": {
            "text/plain": [
              "           1. open      2. high       3. low     4. close     5. volume\n",
              "count  5249.000000  5249.000000  5249.000000  5249.000000  5.249000e+03\n",
              "mean    263.312972   263.413919   263.210730   263.309659  3.231739e+04\n",
              "std       7.303801     7.301473     7.309023     7.301288  6.831548e+04\n",
              "min     251.970000   252.170000   251.940000   251.970000  1.000000e+02\n",
              "25%     257.140000   257.280000   257.030000   257.130000  1.848000e+03\n",
              "50%     262.530000   262.680000   262.419400   262.530000  2.254800e+04\n",
              "75%     266.365000   266.490000   266.180000   266.340000  4.036100e+04\n",
              "max     280.700000   280.700000   280.600000   280.700000  1.967916e+06"
            ],
            "text/html": [
              "\n",
              "  <div id=\"df-f8d8dd67-fbde-458e-bd5d-b5ee79a75d31\">\n",
              "    <div class=\"colab-df-container\">\n",
              "      <div>\n",
              "<style scoped>\n",
              "    .dataframe tbody tr th:only-of-type {\n",
              "        vertical-align: middle;\n",
              "    }\n",
              "\n",
              "    .dataframe tbody tr th {\n",
              "        vertical-align: top;\n",
              "    }\n",
              "\n",
              "    .dataframe thead th {\n",
              "        text-align: right;\n",
              "    }\n",
              "</style>\n",
              "<table border=\"1\" class=\"dataframe\">\n",
              "  <thead>\n",
              "    <tr style=\"text-align: right;\">\n",
              "      <th></th>\n",
              "      <th>1. open</th>\n",
              "      <th>2. high</th>\n",
              "      <th>3. low</th>\n",
              "      <th>4. close</th>\n",
              "      <th>5. volume</th>\n",
              "    </tr>\n",
              "  </thead>\n",
              "  <tbody>\n",
              "    <tr>\n",
              "      <th>count</th>\n",
              "      <td>5249.000000</td>\n",
              "      <td>5249.000000</td>\n",
              "      <td>5249.000000</td>\n",
              "      <td>5249.000000</td>\n",
              "      <td>5.249000e+03</td>\n",
              "    </tr>\n",
              "    <tr>\n",
              "      <th>mean</th>\n",
              "      <td>263.312972</td>\n",
              "      <td>263.413919</td>\n",
              "      <td>263.210730</td>\n",
              "      <td>263.309659</td>\n",
              "      <td>3.231739e+04</td>\n",
              "    </tr>\n",
              "    <tr>\n",
              "      <th>std</th>\n",
              "      <td>7.303801</td>\n",
              "      <td>7.301473</td>\n",
              "      <td>7.309023</td>\n",
              "      <td>7.301288</td>\n",
              "      <td>6.831548e+04</td>\n",
              "    </tr>\n",
              "    <tr>\n",
              "      <th>min</th>\n",
              "      <td>251.970000</td>\n",
              "      <td>252.170000</td>\n",
              "      <td>251.940000</td>\n",
              "      <td>251.970000</td>\n",
              "      <td>1.000000e+02</td>\n",
              "    </tr>\n",
              "    <tr>\n",
              "      <th>25%</th>\n",
              "      <td>257.140000</td>\n",
              "      <td>257.280000</td>\n",
              "      <td>257.030000</td>\n",
              "      <td>257.130000</td>\n",
              "      <td>1.848000e+03</td>\n",
              "    </tr>\n",
              "    <tr>\n",
              "      <th>50%</th>\n",
              "      <td>262.530000</td>\n",
              "      <td>262.680000</td>\n",
              "      <td>262.419400</td>\n",
              "      <td>262.530000</td>\n",
              "      <td>2.254800e+04</td>\n",
              "    </tr>\n",
              "    <tr>\n",
              "      <th>75%</th>\n",
              "      <td>266.365000</td>\n",
              "      <td>266.490000</td>\n",
              "      <td>266.180000</td>\n",
              "      <td>266.340000</td>\n",
              "      <td>4.036100e+04</td>\n",
              "    </tr>\n",
              "    <tr>\n",
              "      <th>max</th>\n",
              "      <td>280.700000</td>\n",
              "      <td>280.700000</td>\n",
              "      <td>280.600000</td>\n",
              "      <td>280.700000</td>\n",
              "      <td>1.967916e+06</td>\n",
              "    </tr>\n",
              "  </tbody>\n",
              "</table>\n",
              "</div>\n",
              "      <button class=\"colab-df-convert\" onclick=\"convertToInteractive('df-f8d8dd67-fbde-458e-bd5d-b5ee79a75d31')\"\n",
              "              title=\"Convert this dataframe to an interactive table.\"\n",
              "              style=\"display:none;\">\n",
              "        \n",
              "  <svg xmlns=\"http://www.w3.org/2000/svg\" height=\"24px\"viewBox=\"0 0 24 24\"\n",
              "       width=\"24px\">\n",
              "    <path d=\"M0 0h24v24H0V0z\" fill=\"none\"/>\n",
              "    <path d=\"M18.56 5.44l.94 2.06.94-2.06 2.06-.94-2.06-.94-.94-2.06-.94 2.06-2.06.94zm-11 1L8.5 8.5l.94-2.06 2.06-.94-2.06-.94L8.5 2.5l-.94 2.06-2.06.94zm10 10l.94 2.06.94-2.06 2.06-.94-2.06-.94-.94-2.06-.94 2.06-2.06.94z\"/><path d=\"M17.41 7.96l-1.37-1.37c-.4-.4-.92-.59-1.43-.59-.52 0-1.04.2-1.43.59L10.3 9.45l-7.72 7.72c-.78.78-.78 2.05 0 2.83L4 21.41c.39.39.9.59 1.41.59.51 0 1.02-.2 1.41-.59l7.78-7.78 2.81-2.81c.8-.78.8-2.07 0-2.86zM5.41 20L4 18.59l7.72-7.72 1.47 1.35L5.41 20z\"/>\n",
              "  </svg>\n",
              "      </button>\n",
              "      \n",
              "  <style>\n",
              "    .colab-df-container {\n",
              "      display:flex;\n",
              "      flex-wrap:wrap;\n",
              "      gap: 12px;\n",
              "    }\n",
              "\n",
              "    .colab-df-convert {\n",
              "      background-color: #E8F0FE;\n",
              "      border: none;\n",
              "      border-radius: 50%;\n",
              "      cursor: pointer;\n",
              "      display: none;\n",
              "      fill: #1967D2;\n",
              "      height: 32px;\n",
              "      padding: 0 0 0 0;\n",
              "      width: 32px;\n",
              "    }\n",
              "\n",
              "    .colab-df-convert:hover {\n",
              "      background-color: #E2EBFA;\n",
              "      box-shadow: 0px 1px 2px rgba(60, 64, 67, 0.3), 0px 1px 3px 1px rgba(60, 64, 67, 0.15);\n",
              "      fill: #174EA6;\n",
              "    }\n",
              "\n",
              "    [theme=dark] .colab-df-convert {\n",
              "      background-color: #3B4455;\n",
              "      fill: #D2E3FC;\n",
              "    }\n",
              "\n",
              "    [theme=dark] .colab-df-convert:hover {\n",
              "      background-color: #434B5C;\n",
              "      box-shadow: 0px 1px 3px 1px rgba(0, 0, 0, 0.15);\n",
              "      filter: drop-shadow(0px 1px 2px rgba(0, 0, 0, 0.3));\n",
              "      fill: #FFFFFF;\n",
              "    }\n",
              "  </style>\n",
              "\n",
              "      <script>\n",
              "        const buttonEl =\n",
              "          document.querySelector('#df-f8d8dd67-fbde-458e-bd5d-b5ee79a75d31 button.colab-df-convert');\n",
              "        buttonEl.style.display =\n",
              "          google.colab.kernel.accessAllowed ? 'block' : 'none';\n",
              "\n",
              "        async function convertToInteractive(key) {\n",
              "          const element = document.querySelector('#df-f8d8dd67-fbde-458e-bd5d-b5ee79a75d31');\n",
              "          const dataTable =\n",
              "            await google.colab.kernel.invokeFunction('convertToInteractive',\n",
              "                                                     [key], {});\n",
              "          if (!dataTable) return;\n",
              "\n",
              "          const docLinkHtml = 'Like what you see? Visit the ' +\n",
              "            '<a target=\"_blank\" href=https://colab.research.google.com/notebooks/data_table.ipynb>data table notebook</a>'\n",
              "            + ' to learn more about interactive tables.';\n",
              "          element.innerHTML = '';\n",
              "          dataTable['output_type'] = 'display_data';\n",
              "          await google.colab.output.renderOutput(dataTable, element);\n",
              "          const docLink = document.createElement('div');\n",
              "          docLink.innerHTML = docLinkHtml;\n",
              "          element.appendChild(docLink);\n",
              "        }\n",
              "      </script>\n",
              "    </div>\n",
              "  </div>\n",
              "  "
            ]
          },
          "metadata": {},
          "execution_count": 17
        }
      ]
    },
    {
      "cell_type": "code",
      "source": [
        "print(data)"
      ],
      "metadata": {
        "colab": {
          "base_uri": "https://localhost:8080/"
        },
        "id": "TJeB5DbS3oca",
        "outputId": "000bb236-0547-4077-ee54-af4f6f3281b4"
      },
      "execution_count": 18,
      "outputs": [
        {
          "output_type": "stream",
          "name": "stdout",
          "text": [
            "                     1. open  2. high  3. low  4. close  5. volume\n",
            "date                                                              \n",
            "2022-09-07 20:00:00   258.12   258.12  258.12    258.12      296.0\n",
            "2022-09-07 19:59:00   258.12   258.12  258.12    258.12      383.0\n",
            "2022-09-07 19:55:00   258.17   258.17  258.15    258.15      262.0\n",
            "2022-09-07 19:52:00   258.15   258.15  258.15    258.15      210.0\n",
            "2022-09-07 19:48:00   258.17   258.17  258.17    258.17      536.0\n",
            "...                      ...      ...     ...       ...        ...\n",
            "2022-08-25 05:03:00   278.37   278.37  278.37    278.37      804.0\n",
            "2022-08-25 04:28:00   278.22   278.22  278.22    278.22      131.0\n",
            "2022-08-25 04:18:00   278.18   278.18  278.18    278.18      130.0\n",
            "2022-08-25 04:16:00   278.22   278.22  278.22    278.22      367.0\n",
            "2022-08-25 04:12:00   278.37   278.37  278.37    278.37      508.0\n",
            "\n",
            "[5249 rows x 5 columns]\n"
          ]
        }
      ]
    },
    {
      "cell_type": "code",
      "source": [
        "close_data=data['4. close']\n"
      ],
      "metadata": {
        "id": "SG1jLgON4Hwk"
      },
      "execution_count": 20,
      "outputs": []
    },
    {
      "cell_type": "code",
      "source": [
        "percent_change=close_data.pct_change()"
      ],
      "metadata": {
        "id": "ggB0p6zt4Vv0"
      },
      "execution_count": 21,
      "outputs": []
    },
    {
      "cell_type": "code",
      "source": [
        "print(percent_change)"
      ],
      "metadata": {
        "colab": {
          "base_uri": "https://localhost:8080/"
        },
        "id": "5lcAEbQ_4fVM",
        "outputId": "b5fb7893-1457-47c8-a9d7-ed9eef397efd"
      },
      "execution_count": 22,
      "outputs": [
        {
          "output_type": "stream",
          "name": "stdout",
          "text": [
            "date\n",
            "2022-09-07 20:00:00         NaN\n",
            "2022-09-07 19:59:00    0.000000\n",
            "2022-09-07 19:55:00    0.000116\n",
            "2022-09-07 19:52:00    0.000000\n",
            "2022-09-07 19:48:00    0.000077\n",
            "                         ...   \n",
            "2022-08-25 05:03:00    0.000072\n",
            "2022-08-25 04:28:00   -0.000539\n",
            "2022-08-25 04:18:00   -0.000144\n",
            "2022-08-25 04:16:00    0.000144\n",
            "2022-08-25 04:12:00    0.000539\n",
            "Name: 4. close, Length: 5249, dtype: float64\n"
          ]
        }
      ]
    },
    {
      "cell_type": "code",
      "source": [
        "last_change=percent_change[-1]\n"
      ],
      "metadata": {
        "id": "lBLaQPKB4hUl"
      },
      "execution_count": 23,
      "outputs": []
    },
    {
      "cell_type": "code",
      "source": [
        "if abs(last_change)>0.00004:\n",
        "  print(\"MSFT Alert  \"+ str(last_change))"
      ],
      "metadata": {
        "colab": {
          "base_uri": "https://localhost:8080/"
        },
        "id": "SBI9OXQS4ooM",
        "outputId": "f39e5fe4-d50e-4d7e-a662-0a3ca6e8ced0"
      },
      "execution_count": 26,
      "outputs": [
        {
          "output_type": "stream",
          "name": "stdout",
          "text": [
            "MSFT Alert  0.0005391416864350962\n"
          ]
        }
      ]
    },
    {
      "cell_type": "code",
      "source": [
        "data.to_excel(\"Output.xlsx\")"
      ],
      "metadata": {
        "id": "Yml6OWW24y7X"
      },
      "execution_count": 27,
      "outputs": []
    },
    {
      "cell_type": "code",
      "source": [
        "data"
      ],
      "metadata": {
        "id": "M9JuNV1j5C4-"
      },
      "execution_count": null,
      "outputs": []
    }
  ]
}